{
  "nbformat": 4,
  "nbformat_minor": 0,
  "metadata": {
    "colab": {
      "name": "kadaiteisyutu1",
      "provenance": [],
      "authorship_tag": "ABX9TyMEM4CKoGHHyxt6v/ivaDnG",
      "include_colab_link": true
    },
    "kernelspec": {
      "name": "python3",
      "display_name": "Python 3"
    },
    "language_info": {
      "name": "python"
    }
  },
  "cells": [
    {
      "cell_type": "markdown",
      "metadata": {
        "id": "view-in-github",
        "colab_type": "text"
      },
      "source": [
        "<a href=\"https://colab.research.google.com/github/haruya0605037/kadaiteisyutu1/blob/main/kadaiteisyutu1.ipynb\" target=\"_parent\"><img src=\"https://colab.research.google.com/assets/colab-badge.svg\" alt=\"Open In Colab\"/></a>"
      ]
    },
    {
      "cell_type": "code",
      "execution_count": 1,
      "metadata": {
        "colab": {
          "base_uri": "https://localhost:8080/"
        },
        "id": "qleanLzvs-bk",
        "outputId": "2b1b87d1-c295-44e0-bb1d-9edb4315e260"
      },
      "outputs": [
        {
          "output_type": "stream",
          "name": "stdout",
          "text": [
            "厚さ： 703687441.77664メートル\n"
          ]
        }
      ],
      "source": [
        "# 紙折問題1 べき乗の算術演算子を使用した実装\n",
        "\n",
        "THICKNESS = 0.00008\n",
        "\n",
        "folded_thickness = THICKNESS * 2**43\n",
        "\n",
        "print(\"厚さ： {}メートル\".format(folded_thickness))"
      ]
    },
    {
      "cell_type": "code",
      "source": [
        "# 紙折問題2 単位の変換\n",
        "\n",
        "THICKNESS = 0.00008\n",
        "folded_thickness = THICKNESS * 2**43\n",
        "\n",
        "print(\"厚さ： {:,.2f}キロメートル\".format(folded_thickness / 1000))\n",
        "\n",
        "earth_moon = 384400\n",
        "folded_thickness/1000 >= earth_moon"
      ],
      "metadata": {
        "colab": {
          "base_uri": "https://localhost:8080/"
        },
        "id": "BTWU_e0NtcFb",
        "outputId": "b7d4df1b-dbc4-48aa-c89e-066746587e7c"
      },
      "execution_count": 2,
      "outputs": [
        {
          "output_type": "stream",
          "name": "stdout",
          "text": [
            "厚さ： 703,687.44キロメートル\n"
          ]
        },
        {
          "output_type": "execute_result",
          "data": {
            "text/plain": [
              "True"
            ]
          },
          "metadata": {},
          "execution_count": 2
        }
      ]
    },
    {
      "cell_type": "code",
      "source": [
        "# 紙折問題3 for文を使用しべき乗の演算子は使用せず\n",
        "\n",
        "THICKNESS = 0.00008\n",
        "S = 1\n",
        "a = 2\n",
        "n = 43\n",
        "\n",
        "for i in range(n):\n",
        "   S *= a\n",
        "   \n",
        "ultimate_thickness = S * THICKNESS\n",
        "print(\"厚さ： {:,.2f}キロメートル\".format(ultimate_thickness / 1000))"
      ],
      "metadata": {
        "colab": {
          "base_uri": "https://localhost:8080/"
        },
        "id": "DaUNyA9gtiU0",
        "outputId": "f71658c2-6d2d-4a7a-dca3-83d05ec367aa"
      },
      "execution_count": 3,
      "outputs": [
        {
          "output_type": "stream",
          "name": "stdout",
          "text": [
            "厚さ： 703,687.44キロメートル\n"
          ]
        }
      ]
    },
    {
      "cell_type": "code",
      "source": [
        "# 紙折問題4 計算時間の把握\n",
        "# べき乗タイム\n",
        "THICKNESS = 0.00008\n",
        "\n",
        "import time\n",
        "start = time.time()\n",
        "\n",
        "folded_thickness = THICKNESS * 2**43\n",
        "\n",
        "elapsed_time = time.time() - start\n",
        "print(\"time : {}[s]\".format(elapsed_time))\n",
        "\n",
        "# for文タイム\n",
        "start = time.time()\n",
        "\n",
        "S = 1\n",
        "a = 2\n",
        "n = 43\n",
        "\n",
        "for i in range(n):\n",
        "   S *= a\n",
        "ultimate_thickness = S * THICKNESS\n",
        "\n",
        "elapsed_time = time.time() - start\n",
        "print(\"time : {}[s]\".format(elapsed_time))"
      ],
      "metadata": {
        "colab": {
          "base_uri": "https://localhost:8080/"
        },
        "id": "6roxetm_ti4Q",
        "outputId": "eb133708-994c-42da-e3f4-038006b1a8f5"
      },
      "execution_count": 6,
      "outputs": [
        {
          "output_type": "stream",
          "name": "stdout",
          "text": [
            "time : 8.416175842285156e-05[s]\n",
            "time : 0.00020956993103027344[s]\n"
          ]
        }
      ]
    },
    {
      "cell_type": "code",
      "source": [
        "# 紙折問題5 グラフによる可視化 リストへの保存\n",
        "THICKNESS = 0.00008\n",
        "thickness = []\n",
        "thickness.append(THICKNESS)\n",
        "\n",
        "S = 1\n",
        "a = 2\n",
        "n = 43\n",
        "\n",
        "for i in range(n):\n",
        "  S *= a\n",
        "  ultimate_thickness = S * THICKNESS\n",
        "  thickness.append(ultimate_thickness)\n",
        "\n",
        "print(len(thickness))"
      ],
      "metadata": {
        "colab": {
          "base_uri": "https://localhost:8080/"
        },
        "id": "7gOtfiqxti-w",
        "outputId": "762ecca9-b9ae-4e95-b7af-00104b927acc"
      },
      "execution_count": 7,
      "outputs": [
        {
          "output_type": "stream",
          "name": "stdout",
          "text": [
            "44\n"
          ]
        }
      ]
    },
    {
      "cell_type": "code",
      "source": [
        "# 紙折問題6 グラフによる可視化 折れ線グラフの表示\n",
        "import matplotlib.pyplot as plt\n",
        "%matplotlib inline\n",
        "\n",
        "THICKNESS = 0.00008\n",
        "thickness = []\n",
        "thickness.append(THICKNESS)\n",
        "\n",
        "S = 1\n",
        "a = 2\n",
        "n = 43\n",
        "\n",
        "for i in range(n):\n",
        "  S *= a\n",
        "  ultimate_thickness = S * THICKNESS\n",
        "  thickness.append(ultimate_thickness)\n",
        "\n",
        "plt.title(\"thickness of folded paper\")\n",
        "plt.xlabel(\"number of folds\")\n",
        "plt.ylabel(\"thickness [m]\")\n",
        "plt.plot(thickness)\n",
        "plt.show()"
      ],
      "metadata": {
        "colab": {
          "base_uri": "https://localhost:8080/",
          "height": 295
        },
        "id": "ieibOEz0tjca",
        "outputId": "569322a1-7e4a-4829-fe16-9aea0add3030"
      },
      "execution_count": 8,
      "outputs": [
        {
          "output_type": "display_data",
          "data": {
            "image/png": "[encoded data removed]",
            "text/plain": [
              "<Figure size 432x288 with 1 Axes>"
            ]
          },
          "metadata": {
            "needs_background": "light"
          }
        }
      ]
    },
    {
      "cell_type": "code",
      "source": [
        "# 紙折問題7 グラフによる可視化 グラフのカスタマイズ\n",
        "%matplotlib inline\n",
        "import matplotlib.pyplot as plt\n",
        "\n",
        "THICKNESS = 0.00008\n",
        "thickness = []\n",
        "thickness.append(THICKNESS)\n",
        "\n",
        "S = 1\n",
        "a = 2\n",
        "n = 43\n",
        "\n",
        "for i in range(n):\n",
        "  S *= a\n",
        "  ultimate_thickness = S * THICKNESS\n",
        "  thickness.append(ultimate_thickness)\n",
        "\n",
        "# グラフ①\n",
        "plt.title(\"thickness of folded paper\")\n",
        "plt.xlabel(\"number of folds\")\n",
        "plt.ylabel(\"thickness [m]\")\n",
        "\n",
        "plt.plot(thickness, 'red')\n",
        "plt.axhline(y=384400000, xmin=0, xmax=44, color='red')\n",
        "plt.show()\n",
        "\n",
        "# グラフ②\n",
        "fig, ax = plt.subplots(1)\n",
        "ax.set_facecolor('k')\n",
        "\n",
        "plt.title(\"thickness of folded paper\")\n",
        "plt.xlabel(\"number of folds\")\n",
        "plt.ylabel(\"thickness [m]\")\n",
        "\n",
        "plt.plot(thickness, color='m')\n",
        "plt.axhline(y=384400000, xmin=0, xmax=44, color='w')\n",
        "plt.show()\n",
        "\n",
        "# グラフ③\n",
        "fig, ax = plt.subplots(1)\n",
        "ax.set_facecolor('k')\n",
        "\n",
        "plt.title(\"[thickness of folded paper]\", size=20)\n",
        "plt.xlabel(\"number of folds\")\n",
        "plt.ylabel(\"thickness [m]\")\n",
        "\n",
        "plt.plot(thickness, color='m', linewidth=6, label='thickness_of_folded_paper')\n",
        "plt.axhline(y=384400000, xmin=0, xmax=44, color='w', linestyle='--', label='earth_moon')\n",
        "plt.legend()\n",
        "plt.show()"
      ],
      "metadata": {
        "colab": {
          "base_uri": "https://localhost:8080/",
          "height": 856
        },
        "id": "Xr6ESvhMtjfL",
        "outputId": "c8af30ca-08c7-48f6-d975-bf70653d3c7e"
      },
      "execution_count": 9,
      "outputs": [
        {
          "output_type": "display_data",
          "data": {
            "image/png": "[encoded data removed]",
            "text/plain": [
              "<Figure size 432x288 with 1 Axes>"
            ]
          },
          "metadata": {
            "needs_background": "light"
          }
        },
        {
          "output_type": "display_data",
          "data": {
            "image/png": "[encoded data removed]",
            "text/plain": [
              "<Figure size 432x288 with 1 Axes>"
            ]
          },
          "metadata": {
            "needs_background": "light"
          }
        },
        {
          "output_type": "display_data",
          "data": {
            "image/png": "[encoded data removed]",
            "text/plain": [
              "<Figure size 432x288 with 1 Axes>"
            ]
          },
          "metadata": {
            "needs_background": "light"
          }
        }
      ]
    }
  ]
}